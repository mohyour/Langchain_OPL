{
 "cells": [
  {
   "cell_type": "markdown",
   "id": "de62f00e-70bb-409a-847a-1cdcfc712680",
   "metadata": {},
   "source": [
    "## Splitting and Embedding Text Using Langchain"
   ]
  },
  {
   "cell_type": "code",
   "execution_count": 1,
   "id": "04d481a3-3c6d-44f1-b121-90a034efa1e3",
   "metadata": {},
   "outputs": [
    {
     "data": {
      "text/plain": [
       "True"
      ]
     },
     "execution_count": 1,
     "metadata": {},
     "output_type": "execute_result"
    }
   ],
   "source": [
    "import os\n",
    "from dotenv import load_dotenv, find_dotenv\n",
    "\n",
    "load_dotenv(find_dotenv(), override=True)"
   ]
  },
  {
   "cell_type": "code",
   "execution_count": 21,
   "id": "122d7b47-ec39-4b48-ba93-aa04ea9e37c4",
   "metadata": {},
   "outputs": [],
   "source": [
    "# default text splitter is RecursiveCharacterTextSplitter\n",
    "# By default text characters try to split by backslash, newline, whitespace\n",
    "from langchain.text_splitter import RecursiveCharacterTextSplitter\n",
    "with open('./files/churchill_speech.txt') as f:\n",
    "          churchill_speech = f.read()\n",
    "text_splitter = RecursiveCharacterTextSplitter(\n",
    "    chunk_size=100,\n",
    "    chunk_overlap=20,\n",
    "    length_function=len\n",
    ")"
   ]
  },
  {
   "cell_type": "code",
   "execution_count": 23,
   "id": "882f211d-b486-4d13-8634-965244e23548",
   "metadata": {},
   "outputs": [
    {
     "name": "stdout",
     "output_type": "stream",
     "text": [
      "page_content='From the moment that the French defenses at Sedan and on the Meuse were broken at the end of the'\n",
      "penetration were realized and when a new French Generalissimo, General Weygand, assumed ==\n",
      "now we have 300 chunks\n"
     ]
    }
   ],
   "source": [
    "chunks = text_splitter.create_documents([churchill_speech])\n",
    "print(chunks[2])\n",
    "print(chunks[10].page_content, \"==\")\n",
    "print(f'now we have {len(chunks)} chunks')"
   ]
  },
  {
   "cell_type": "markdown",
   "id": "86d2b366-9e1f-4210-bb6d-c4a5f976fd30",
   "metadata": {},
   "source": [
    "#### Embedding cost"
   ]
  },
  {
   "cell_type": "code",
   "execution_count": 26,
   "id": "a19cd401-faec-408f-a196-6c3061df6163",
   "metadata": {},
   "outputs": [
    {
     "name": "stdout",
     "output_type": "stream",
     "text": [
      "Total Tokens: 4820\n",
      "Embedding Cost in USD: 0.001928\n"
     ]
    }
   ],
   "source": [
    "def print_embedding_cost(texts):\n",
    "    import tiktoken\n",
    "    enc = tiktoken.encoding_for_model('text-embedding-ada-002')\n",
    "    total_tokens = sum([len(enc.encode(page.page_content)) for page in texts])\n",
    "    print(f'Total Tokens: {total_tokens}')\n",
    "    print(f'Embedding Cost in USD: {total_tokens/1000 * 0.0004:.6f}')\n",
    "\n",
    "print_embedding_cost(chunks)"
   ]
  },
  {
   "cell_type": "code",
   "execution_count": 45,
   "id": "4dcc13ad-bdc0-4cba-9570-8cbfbcdba384",
   "metadata": {},
   "outputs": [],
   "source": [
    "from langchain.embeddings import OpenAIEmbeddings\n",
    "embeddings = OpenAIEmbeddings()"
   ]
  },
  {
   "cell_type": "code",
   "execution_count": null,
   "id": "92c51c8a-11c5-4fe0-816d-12d12cfc5457",
   "metadata": {},
   "outputs": [],
   "source": [
    "vector = embeddings.embed_query(chunks[0].page_content)\n",
    "vector"
   ]
  },
  {
   "cell_type": "markdown",
   "id": "6c36bc73-9211-48b0-acfc-ce5839eab364",
   "metadata": {},
   "source": [
    "#### Inserting the embeddings into a Pinecone Index"
   ]
  },
  {
   "cell_type": "code",
   "execution_count": 47,
   "id": "77020a7f-4273-4f7d-b851-bfa42db5047a",
   "metadata": {},
   "outputs": [],
   "source": [
    "import os\n",
    "import pinecone\n",
    "from langchain.vectorstores import Pinecone\n",
    "\n",
    "pinecone.init(\n",
    "    api_key=os.environ.get('PINECONE_API_KEY'),\n",
    "    environment = os.environ.get('PINECONE_ENV')\n",
    ")"
   ]
  },
  {
   "cell_type": "code",
   "execution_count": 56,
   "id": "c5ef8911-27ea-4d7c-8bf3-fd47ac2892cb",
   "metadata": {},
   "outputs": [],
   "source": [
    "# deleting all indexes\n",
    "indexes = pinecone.list_indexes()"
   ]
  },
  {
   "cell_type": "code",
   "execution_count": 57,
   "id": "5c6939dc-dddf-45d9-85ec-a608e95daf0c",
   "metadata": {},
   "outputs": [
    {
     "name": "stdout",
     "output_type": "stream",
     "text": [
      "Deleting all indexes\n",
      "Done\n"
     ]
    }
   ],
   "source": [
    "for i in indexes:\n",
    "    print(\"Deleting all indexes\")\n",
    "    pinecone.delete_index(i)\n",
    "    print(\"Done\")"
   ]
  },
  {
   "cell_type": "code",
   "execution_count": 58,
   "id": "b77e0517-0fbb-4425-ab52-7aa61ff9d117",
   "metadata": {},
   "outputs": [
    {
     "name": "stdout",
     "output_type": "stream",
     "text": [
      "Done\n"
     ]
    }
   ],
   "source": [
    "index_name = 'churchill-speech'\n",
    "if index_name not in pinecone.list_indexes():\n",
    "    pinecone.create_index(index_name, dimension=1536, metric='cosine')\n",
    "    print(\"Done\")"
   ]
  },
  {
   "cell_type": "code",
   "execution_count": 59,
   "id": "727d5ac5-f69e-4365-9de4-39972bcf5ef4",
   "metadata": {},
   "outputs": [],
   "source": [
    "vector_store = Pinecone.from_documents(chunks, embeddings, index_name=index_name)"
   ]
  },
  {
   "cell_type": "markdown",
   "id": "189847a1-a998-46ba-bd7a-2892af48f82a",
   "metadata": {},
   "source": [
    "### Asking Question - Similarity search"
   ]
  },
  {
   "cell_type": "code",
   "execution_count": 61,
   "id": "dfc8fe08-ea36-404d-b0a9-17aa86570c4c",
   "metadata": {},
   "outputs": [
    {
     "data": {
      "text/plain": [
       "[Document(page_content='front, now on that, fighting'),\n",
       " Document(page_content='fighting attendant upon them followed, these unfortunate people would be far better out of the way,'),\n",
       " Document(page_content='shall fight on the beaches, we shall fight on the landing grounds, we shall fight in the fields and'),\n",
       " Document(page_content='of their far more numerous Air Force, was thrown into the battle or else concentrated upon Dunkirk')]"
      ]
     },
     "execution_count": 61,
     "metadata": {},
     "output_type": "execute_result"
    }
   ],
   "source": [
    "query = \"Where shoukd they fight?\"\n",
    "result = vector_store.similarity_search(query)\n",
    "result"
   ]
  },
  {
   "cell_type": "code",
   "execution_count": 62,
   "id": "785221d9-bf96-4cd4-95b4-13f38d8813ee",
   "metadata": {},
   "outputs": [
    {
     "name": "stdout",
     "output_type": "stream",
     "text": [
      "front, now on that, fighting\n",
      "__________________________________________________\n",
      "fighting attendant upon them followed, these unfortunate people would be far better out of the way,\n",
      "__________________________________________________\n",
      "shall fight on the beaches, we shall fight on the landing grounds, we shall fight in the fields and\n",
      "__________________________________________________\n",
      "of their far more numerous Air Force, was thrown into the battle or else concentrated upon Dunkirk\n",
      "__________________________________________________\n"
     ]
    }
   ],
   "source": [
    "for r in result:\n",
    "    print(r.page_content)\n",
    "    print('_' * 50)"
   ]
  },
  {
   "cell_type": "code",
   "execution_count": 78,
   "id": "da9a8ded-56bd-4749-bdcf-e5e6eb05638a",
   "metadata": {},
   "outputs": [],
   "source": [
    "from langchain.chains import RetrievalQA\n",
    "from langchain.chat_models import ChatOpenAI\n",
    "# llm = ChatOpenAI(model='gpt-4', temperature=0.7)\n",
    "llm = ChatOpenAI(model='gpt-3.5-turbo', temperature=1)\n",
    "retriever = vector_store.as_retriever(search_type='similarity', search_kwargs={'k': 3})\n",
    "chain = RetrievalQA.from_chain_type(llm=llm, chain_type=\"stuff\", retriever=retriever)"
   ]
  },
  {
   "cell_type": "code",
   "execution_count": 79,
   "id": "c85a89b9-f048-496c-9435-51b59aaab81c",
   "metadata": {},
   "outputs": [
    {
     "data": {
      "text/plain": [
       "'They should fight on the beaches, on the landing grounds, and in the fields.'"
      ]
     },
     "execution_count": 79,
     "metadata": {},
     "output_type": "execute_result"
    }
   ],
   "source": [
    "query = \"Where shoukd they fight?\"\n",
    "answer = chain.run(query)\n",
    "answer"
   ]
  },
  {
   "cell_type": "code",
   "execution_count": 80,
   "id": "b45eb5f6-cfd9-4577-a648-6a371a5ff8a3",
   "metadata": {},
   "outputs": [
    {
     "data": {
      "text/plain": [
       "'The king of Belgium at that time was King Leopold.'"
      ]
     },
     "execution_count": 80,
     "metadata": {},
     "output_type": "execute_result"
    }
   ],
   "source": [
    "query = \"Who was the king of Belgium at that time\"\n",
    "answer = chain.run(query)\n",
    "answer"
   ]
  },
  {
   "cell_type": "code",
   "execution_count": 81,
   "id": "fb8fb91c-32d1-4102-adb0-e62c4d904f93",
   "metadata": {},
   "outputs": [
    {
     "data": {
      "text/plain": [
       "'The French armies were involved in the conflict with the British armies. They were holding the area in question and had plans to advance across the Somme with a strong force.'"
      ]
     },
     "execution_count": 81,
     "metadata": {},
     "output_type": "execute_result"
    }
   ],
   "source": [
    "query = \"What about the French armies?\"\n",
    "answer = chain.run(query)\n",
    "answer"
   ]
  },
  {
   "cell_type": "code",
   "execution_count": null,
   "id": "2a9f392d-4841-4b0e-8fc7-3e0b6fb56651",
   "metadata": {},
   "outputs": [],
   "source": []
  }
 ],
 "metadata": {
  "kernelspec": {
   "display_name": "Python 3 (ipykernel)",
   "language": "python",
   "name": "python3"
  },
  "language_info": {
   "codemirror_mode": {
    "name": "ipython",
    "version": 3
   },
   "file_extension": ".py",
   "mimetype": "text/x-python",
   "name": "python",
   "nbconvert_exporter": "python",
   "pygments_lexer": "ipython3",
   "version": "3.11.4"
  }
 },
 "nbformat": 4,
 "nbformat_minor": 5
}
