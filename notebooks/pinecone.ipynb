{
 "cells": [
  {
   "cell_type": "markdown",
   "id": "0e9c0a1a-9e2a-432d-811b-2799be5687ee",
   "metadata": {},
   "source": [
    "## Diving into Pinecone"
   ]
  },
  {
   "cell_type": "code",
   "execution_count": 5,
   "id": "e9f9d0f2-6777-456f-bc95-f38064d6069a",
   "metadata": {},
   "outputs": [
    {
     "data": {
      "text/plain": [
       "True"
      ]
     },
     "execution_count": 5,
     "metadata": {},
     "output_type": "execute_result"
    }
   ],
   "source": [
    "import os\n",
    "from dotenv import load_dotenv, find_dotenv\n",
    "\n",
    "load_dotenv(find_dotenv(), override=True)"
   ]
  },
  {
   "cell_type": "code",
   "execution_count": 6,
   "id": "04ce9985-f2a3-41cd-83a9-84932778d790",
   "metadata": {},
   "outputs": [],
   "source": [
    "import pinecone\n",
    "pinecone.init(\n",
    "    api_key=os.environ.get('PINECONE_API_KEY'),\n",
    "    environment = os.environ.get('PINECONE_ENV')\n",
    ")"
   ]
  },
  {
   "cell_type": "code",
   "execution_count": 7,
   "id": "9ca8f468-b5d5-4db0-9e18-c64f5c361a70",
   "metadata": {},
   "outputs": [
    {
     "data": {
      "text/plain": [
       "VersionResponse(server='2.0.11', client='2.2.4')"
      ]
     },
     "execution_count": 7,
     "metadata": {},
     "output_type": "execute_result"
    }
   ],
   "source": [
    "pinecone.info.version()"
   ]
  },
  {
   "cell_type": "markdown",
   "id": "3d7ba3fe-b43a-49b0-9a56-8fd7eef6db4c",
   "metadata": {},
   "source": [
    "### Pinecone Indexes\n",
    "An index is the highest level organizational unit of vector data. It accepts, installs vectors, serves queries over the vectors it contains and does other vector operations over its contains. Each index runs on at least one pod."
   ]
  },
  {
   "cell_type": "code",
   "execution_count": 14,
   "id": "3b75c850-3553-45e9-a15d-aefbf34a4546",
   "metadata": {},
   "outputs": [
    {
     "data": {
      "text/plain": [
       "[]"
      ]
     },
     "execution_count": 14,
     "metadata": {},
     "output_type": "execute_result"
    }
   ],
   "source": [
    "pinecone.list_indexes()"
   ]
  },
  {
   "cell_type": "code",
   "execution_count": 15,
   "id": "4f854a31-f51d-42f2-a329-77c688464cfd",
   "metadata": {},
   "outputs": [
    {
     "name": "stdout",
     "output_type": "stream",
     "text": [
      "Creating index langchain-pinecone...\n",
      "Done\n"
     ]
    }
   ],
   "source": [
    "index_name = 'langchain-pinecone'\n",
    "if index_name not in pinecone.list_indexes():\n",
    "    print(f\"Creating index {index_name}...\")\n",
    "    pinecone.create_index(index_name, dimension=1536, metric='cosine', pods=1, pod_type='p1.x2')\n",
    "    print(\"Done\")\n",
    "else:\n",
    "    print(f'Index {index_name} already exist!')"
   ]
  },
  {
   "cell_type": "code",
   "execution_count": 16,
   "id": "2c65b803-09a1-4f45-ba5a-712edbff5aaa",
   "metadata": {},
   "outputs": [
    {
     "data": {
      "text/plain": [
       "IndexDescription(name='langchain-pinecone', metric='cosine', replicas=1, dimension=1536.0, shards=1, pods=1, pod_type='starter', status={'ready': True, 'state': 'Ready'}, metadata_config=None, source_collection='')"
      ]
     },
     "execution_count": 16,
     "metadata": {},
     "output_type": "execute_result"
    }
   ],
   "source": [
    "pinecone.describe_index(index_name)"
   ]
  },
  {
   "cell_type": "code",
   "execution_count": 17,
   "id": "aec9c567-a43c-4a8b-8b85-5fd5c630ddf3",
   "metadata": {},
   "outputs": [],
   "source": [
    "#deleting an index\n",
    "index_name = 'langchain-pinecone'\n",
    "# if index_name in pinecone.list_indexes():\n",
    "#     print(f\"Deleting index {index_name}...\")\n",
    "#     pinecone.delete_index(index_name)\n",
    "#     print(\"Done\")\n",
    "# else:\n",
    "#     print(f'Index {index_name} does not exist!')"
   ]
  },
  {
   "cell_type": "code",
   "execution_count": 18,
   "id": "fc68533c-8d03-4306-90bd-d4bced4f6c16",
   "metadata": {},
   "outputs": [
    {
     "data": {
      "text/plain": [
       "{'dimension': 1536,\n",
       " 'index_fullness': 0.0,\n",
       " 'namespaces': {},\n",
       " 'total_vector_count': 0}"
      ]
     },
     "execution_count": 18,
     "metadata": {},
     "output_type": "execute_result"
    }
   ],
   "source": [
    "# To do any work with Indexes, you must first select it\n",
    "index_name = 'langchain-pinecone'\n",
    "index = pinecone.Index(index_name)\n",
    "index.describe_index_stats()"
   ]
  },
  {
   "cell_type": "markdown",
   "id": "aa908e73-ab21-49e8-a4de-7d1aa717383a",
   "metadata": {},
   "source": [
    "#### Namespace\n",
    "Pinecone allows you to partition the vectors in an index into namespaces.\n",
    "\n",
    "Queries and other operations are then limited to one namespace. Different requests can search different subsets of your index. e.g namespace for indexing articles by content and another by title.\n",
    "\n",
    "Every index is made of one or more namespaces.\n",
    "\n",
    "Every vector exists in exactly one namespace.\n",
    "\n",
    "Namespaces are uniquely identified by a namespace name."
   ]
  },
  {
   "cell_type": "code",
   "execution_count": 19,
   "id": "5ffdacb0-d5af-445e-8c07-8cfa5677ffb4",
   "metadata": {},
   "outputs": [],
   "source": [
    "# inserting into pinecone index\n",
    "import random\n",
    "vectors = [[random.random() for _ in range(1536)] for v in range(5)]  #list of list, 5 vectors\n",
    "# vectors\n",
    "\n"
   ]
  },
  {
   "cell_type": "code",
   "execution_count": 20,
   "id": "2d816752-b181-4bd4-96a9-5e5f5a1bd8b9",
   "metadata": {},
   "outputs": [
    {
     "data": {
      "text/plain": [
       "{'upserted_count': 5}"
      ]
     },
     "execution_count": 20,
     "metadata": {},
     "output_type": "execute_result"
    }
   ],
   "source": [
    "# To insert a vector into  we need the vector and its id\n",
    "ids = list('abcde')\n",
    "index_name = pinecone.Index(index_name)\n",
    "index.upsert(vectors=zip(ids, vectors)) # upserts inserts a new value or updates existing value if already exist \n",
    "# zip func connects the ids and vectors in a list of tuple"
   ]
  },
  {
   "cell_type": "code",
   "execution_count": 21,
   "id": "ae169b61-6987-4b46-9301-7cd9d4092dad",
   "metadata": {},
   "outputs": [
    {
     "data": {
      "text/plain": [
       "{'upserted_count': 1}"
      ]
     },
     "execution_count": 21,
     "metadata": {},
     "output_type": "execute_result"
    }
   ],
   "source": [
    "# Updating a vector\n",
    "index.upsert(vectors=[('c', [0.3] * 1536)])"
   ]
  },
  {
   "cell_type": "code",
   "execution_count": null,
   "id": "a8518bbd-d3a6-40c2-bbce-549dc466f359",
   "metadata": {},
   "outputs": [],
   "source": [
    "# Fetching a vector\n",
    "index = pinecone.Index('langchain-pinecone')\n",
    "index.fetch(ids=['c', 'd'])"
   ]
  },
  {
   "cell_type": "code",
   "execution_count": 23,
   "id": "be16a80c-fbd1-4903-818c-80434e086996",
   "metadata": {},
   "outputs": [
    {
     "data": {
      "text/plain": [
       "{'dimension': 1536,\n",
       " 'index_fullness': 5e-05,\n",
       " 'namespaces': {'': {'vector_count': 5}},\n",
       " 'total_vector_count': 5}"
      ]
     },
     "execution_count": 23,
     "metadata": {},
     "output_type": "execute_result"
    }
   ],
   "source": [
    "index.describe_index_stats()"
   ]
  },
  {
   "cell_type": "code",
   "execution_count": 24,
   "id": "055a9560-e596-4902-853a-cb7db47f93d6",
   "metadata": {},
   "outputs": [
    {
     "data": {
      "text/plain": [
       "{}"
      ]
     },
     "execution_count": 24,
     "metadata": {},
     "output_type": "execute_result"
    }
   ],
   "source": [
    "# Deleting a vector\n",
    "index.delete(ids=['b', 'c'])"
   ]
  },
  {
   "cell_type": "code",
   "execution_count": 25,
   "id": "e0a0635d-273b-428e-b738-74d9e0378eec",
   "metadata": {},
   "outputs": [
    {
     "data": {
      "text/plain": [
       "{'dimension': 1536,\n",
       " 'index_fullness': 5e-05,\n",
       " 'namespaces': {'': {'vector_count': 5}},\n",
       " 'total_vector_count': 5}"
      ]
     },
     "execution_count": 25,
     "metadata": {},
     "output_type": "execute_result"
    }
   ],
   "source": [
    "index.describe_index_stats()"
   ]
  },
  {
   "cell_type": "code",
   "execution_count": 26,
   "id": "cd54a7e2-ddd2-4384-9e15-cd43f4879e96",
   "metadata": {},
   "outputs": [
    {
     "data": {
      "text/plain": [
       "{'namespace': '', 'vectors': {}}"
      ]
     },
     "execution_count": 26,
     "metadata": {},
     "output_type": "execute_result"
    }
   ],
   "source": [
    "# Fetching a vector that does not exist will not throw an error, but return an empty vector\n",
    "index.fetch(ids=['b'])"
   ]
  },
  {
   "cell_type": "code",
   "execution_count": 27,
   "id": "e3ad87bd-ef8c-410b-9ba8-8ad159595d2a",
   "metadata": {},
   "outputs": [
    {
     "data": {
      "text/plain": [
       "{}"
      ]
     },
     "execution_count": 27,
     "metadata": {},
     "output_type": "execute_result"
    }
   ],
   "source": [
    "# Deleting all vectors\n",
    "# index.delete(delete_all=True)"
   ]
  },
  {
   "cell_type": "code",
   "execution_count": 29,
   "id": "40ce1def-f0e0-47f4-947e-2d27af7e02cd",
   "metadata": {},
   "outputs": [],
   "source": [
    "# Querying\n",
    "queries = [[random.random() for _ in range(1536)] for v in range(1)]"
   ]
  },
  {
   "cell_type": "code",
   "execution_count": 30,
   "id": "e0a550b3-8a7e-4a5e-838e-3dd9272a5a42",
   "metadata": {},
   "outputs": [
    {
     "data": {
      "text/plain": [
       "{'matches': [{'id': 'a', 'score': 0.74868536, 'values': []},\n",
       "             {'id': 'd', 'score': 0.74527657, 'values': []},\n",
       "             {'id': 'e', 'score': 0.745068073, 'values': []}],\n",
       " 'namespace': ''}"
      ]
     },
     "execution_count": 30,
     "metadata": {},
     "output_type": "execute_result"
    }
   ],
   "source": [
    "# retrieve ids of most similar vectors in the namespace of the index along with the similarity scores\n",
    "index.query(\n",
    "    vector=queries,\n",
    "    top_k = 3, # returns top 3 most similar,\n",
    "    include_values=False\n",
    ")"
   ]
  },
  {
   "cell_type": "code",
   "execution_count": null,
   "id": "911c580a-a7c9-458f-b4c9-f323797113b2",
   "metadata": {},
   "outputs": [],
   "source": []
  }
 ],
 "metadata": {
  "kernelspec": {
   "display_name": "Python 3 (ipykernel)",
   "language": "python",
   "name": "python3"
  },
  "language_info": {
   "codemirror_mode": {
    "name": "ipython",
    "version": 3
   },
   "file_extension": ".py",
   "mimetype": "text/x-python",
   "name": "python",
   "nbconvert_exporter": "python",
   "pygments_lexer": "ipython3",
   "version": "3.11.4"
  }
 },
 "nbformat": 4,
 "nbformat_minor": 5
}
