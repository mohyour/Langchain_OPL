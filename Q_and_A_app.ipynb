{
 "cells": [
  {
   "cell_type": "markdown",
   "id": "cd3c5242-568f-4b97-9692-f7addd1f6f97",
   "metadata": {},
   "source": [
    "## Question and Answer Application - on Private Documents\n"
   ]
  },
  {
   "cell_type": "code",
   "execution_count": 1,
   "id": "21ffd257-940a-4baa-8631-1b4506babd79",
   "metadata": {},
   "outputs": [
    {
     "data": {
      "text/plain": [
       "True"
      ]
     },
     "execution_count": 1,
     "metadata": {},
     "output_type": "execute_result"
    }
   ],
   "source": [
    "import os\n",
    "from dotenv import load_dotenv, find_dotenv\n",
    "\n",
    "load_dotenv(find_dotenv(), override=True)"
   ]
  },
  {
   "cell_type": "code",
   "execution_count": 2,
   "id": "a7bb7320-9bbc-4ee1-94c7-c0e269a71d34",
   "metadata": {},
   "outputs": [],
   "source": [
    "# pip install pypdf -q"
   ]
  },
  {
   "cell_type": "code",
   "execution_count": 3,
   "id": "2f76c4ba-3bf9-45c8-81b4-fed3a22eb5de",
   "metadata": {},
   "outputs": [],
   "source": [
    "# pip install docx2txt -q"
   ]
  },
  {
   "cell_type": "code",
   "execution_count": 4,
   "id": "97bbdb91-831c-4516-a36a-e3b1d7c1148d",
   "metadata": {},
   "outputs": [
    {
     "name": "stdout",
     "output_type": "stream",
     "text": [
      "Note: you may need to restart the kernel to use updated packages.\n"
     ]
    }
   ],
   "source": [
    "pip install wikipedia -q"
   ]
  },
  {
   "cell_type": "code",
   "execution_count": 5,
   "id": "e04ebfde-6f4b-42d1-9cfd-930732fe3184",
   "metadata": {},
   "outputs": [],
   "source": [
    "from langchain.document_loaders import PyPDFLoader, Docx2txtLoader\n",
    "def load_document(file):\n",
    "    import os\n",
    "    name, extension = os.path.splitext(file)\n",
    "    if extension == '.pdf':\n",
    "        print(f'loading {file}')\n",
    "        loader = PyPDFLoader(file)\n",
    "    elif extension == '.docx':\n",
    "        print(f'loading {file}')\n",
    "        loader = Docx2txtLoader(file)\n",
    "    else:\n",
    "        print(f\"Document format for {file} not supported\")\n",
    "        return None\n",
    "    data = loader.load()\n",
    "    return data"
   ]
  },
  {
   "cell_type": "code",
   "execution_count": 6,
   "id": "586a515c-258f-4310-bb11-3176782d70ab",
   "metadata": {},
   "outputs": [],
   "source": [
    "from langchain.document_loaders import WikipediaLoader\n",
    "\n",
    "def load_from_wikipedia(query, lang='en'):\n",
    "    loader = WikipediaLoader(query=query, lang=lang, load_max_docs=2) # load_max_docs limits the number of downloaded documents\n",
    "    data = loader.load()\n",
    "    return data"
   ]
  },
  {
   "cell_type": "markdown",
   "id": "a05078e7-497e-4c18-9598-2728bc8e1b82",
   "metadata": {},
   "source": [
    "#### Chunk data"
   ]
  },
  {
   "cell_type": "code",
   "execution_count": 10,
   "id": "4afe73b8-e9eb-4068-8e9b-b9957114172d",
   "metadata": {},
   "outputs": [],
   "source": [
    "from langchain.text_splitter import RecursiveCharacterTextSplitter\n",
    "def chunk_data(data, chunk_size=256):\n",
    "    text_splitter = RecursiveCharacterTextSplitter(chunk_size=chunk_size, chunk_overlap=0)\n",
    "    chunks = text_splitter.split_documents(data) # use create_documents instead of split_documents when it's not already split in pages\n",
    "    return chunks"
   ]
  },
  {
   "cell_type": "markdown",
   "id": "59b59858-7dae-4702-9e6d-b2d98f956ca6",
   "metadata": {},
   "source": [
    "#### Calculating cost"
   ]
  },
  {
   "cell_type": "code",
   "execution_count": 11,
   "id": "63ce5c64-5167-4f16-b67f-038e4843370b",
   "metadata": {},
   "outputs": [],
   "source": [
    "import tiktoken\n",
    "def print_embedding_cost(texts):\n",
    "    enc = tiktoken.encoding_for_model('text-embedding-ada-002')\n",
    "    total_tokens = sum([len(enc.encode(page.page_content)) for page in texts])\n",
    "    print(f'Total Tokens: {total_tokens}')\n",
    "    print(f'Embedding Cost in USD: {total_tokens/1000 * 0.0004:.6f}')"
   ]
  },
  {
   "cell_type": "markdown",
   "id": "f3a094ff-a0dc-497f-8adf-6d4ccffca45c",
   "metadata": {},
   "source": [
    "### Embedding and uploading to a vector database (Pinecone)"
   ]
  },
  {
   "cell_type": "code",
   "execution_count": 13,
   "id": "b61453a0-905a-4bff-8962-9e000c7ec441",
   "metadata": {},
   "outputs": [],
   "source": [
    "import pinecone\n",
    "from langchain.vectorstores import Pinecone\n",
    "from langchain.embeddings.openai import OpenAIEmbeddings\n",
    "\n",
    "def insert_or_fetch_embeddings(index_name):\n",
    "\n",
    "    embeddings = OpenAIEmbeddings()\n",
    "    pinecone.init(api_key=os.environ.get('PINECONE_API_KEY'), environment=os.environ.get('PINECONE_ENV'))\n",
    "\n",
    "    if index_name in pinecone.list_indexes():\n",
    "        print(f\"Index {index_name} already exist\")\n",
    "        vector_store = Pinecone.from_existing_index(index_name, embeddings)\n",
    "        print(\"Completed\")\n",
    "    else:\n",
    "        print(f\"Creating index: {index_name}\")\n",
    "        pinecone.create_index(index_name, dimension=1536, metric='cosine')\n",
    "        vector_store = Pinecone.from_documents(chunks, embeddings, index_name=index_name)\n",
    "        print(\"completed\")\n",
    "\n",
    "    return vector_store"
   ]
  },
  {
   "cell_type": "code",
   "execution_count": 14,
   "id": "c5915dbb-aebf-4809-8232-e4b04816f754",
   "metadata": {},
   "outputs": [],
   "source": [
    "import pinecone\n",
    "def delete_pinecone_index(index_name=\"all\"):\n",
    "    pinecone.init(api_key=os.environ.get('PINECONE_API_KEY'), environment=os.environ.get('PINECONE_ENV'))\n",
    "\n",
    "    if index_name == 'all':\n",
    "        indexes = pinecone.list_indexes()\n",
    "        print(\"Deleting all indexes\")\n",
    "        for index in indexes:\n",
    "            pinecone.delete_index(index)\n",
    "        print('Done')\n",
    "    else:\n",
    "        print(f\"Deleting index {index_name}\")\n",
    "        pinecone.delete_index(index_name)\n",
    "        print('Done')\n",
    "        \n",
    "    "
   ]
  },
  {
   "cell_type": "markdown",
   "id": "3f54dada-d2c4-4e1b-b106-51c59d1c2463",
   "metadata": {},
   "source": [
    "### Asking and getting answers"
   ]
  },
  {
   "cell_type": "code",
   "execution_count": 15,
   "id": "ec90e531-bb6b-487e-a5a9-afb8231c9499",
   "metadata": {},
   "outputs": [],
   "source": [
    "from langchain.chains import RetrievalQA\n",
    "from langchain.chat_models import ChatOpenAI\n",
    "from langchain.chains import ConversationalRetrievalChain\n",
    "\n",
    "def ask_and_get_answer(vectore_store, q):\n",
    "    # llm = ChatOpenAI(model='gpt-4', temperature=0.7)\n",
    "    \n",
    "    llm = ChatOpenAI(model='gpt-3.5-turbo', temperature=1)\n",
    "    retriever = vector_store.as_retriever(search_type='similarity', search_kwargs={'k': 3})\n",
    "    chain = RetrievalQA.from_chain_type(llm=llm, chain_type=\"stuff\", retriever=retriever)\n",
    "    answer = chain.run(q)\n",
    "    return answer\n",
    "\n",
    "def ask_with_memory(vector_store, question, chat_history=[]):\n",
    "    llm = ChatOpenAI(temperature=1)\n",
    "    retriever = vector_store.as_retriever(search_type='similarity', search_kwargs={'k': 3})\n",
    "\n",
    "    crc = ConversationalRetrievalChain.from_llm(llm, retriever)\n",
    "    result = crc({'question': question, 'chat_history': chat_history})\n",
    "    chat_history.append((question, result['answer']))\n",
    "\n",
    "    return result, chat_history\n",
    "    "
   ]
  },
  {
   "cell_type": "markdown",
   "id": "23538177-cf13-4c48-b385-664757a5e51a",
   "metadata": {},
   "source": [
    "### Running Code"
   ]
  },
  {
   "cell_type": "code",
   "execution_count": 16,
   "id": "2c8ebb5e-760f-45f7-ace4-a00ada1ad302",
   "metadata": {},
   "outputs": [
    {
     "name": "stdout",
     "output_type": "stream",
     "text": [
      "loading files/us_constitution.pdf\n",
      "41\n",
      "{'source': 'files/us_constitution.pdf', 'page': 2}\n",
      "You file has 41 pages\n"
     ]
    }
   ],
   "source": [
    "pdf_data = load_document('files/us_constitution.pdf')\n",
    "print(len(pdf_data))\n",
    "# print(data[1].page_content)\n",
    "print(pdf_data[2].metadata)\n",
    "print(f\"You file has {len(pdf_data)} pages\")"
   ]
  },
  {
   "cell_type": "code",
   "execution_count": 17,
   "id": "b2b0ec7a-cb05-49e1-a803-4b77f23871ce",
   "metadata": {},
   "outputs": [
    {
     "name": "stdout",
     "output_type": "stream",
     "text": [
      "loading files/the_great_gatsby.docx\n",
      "1\n"
     ]
    }
   ],
   "source": [
    "doc_data = load_document('files/the_great_gatsby.docx')\n",
    "print(len(doc_data))\n",
    "# print(doc_data[0].page_content)"
   ]
  },
  {
   "cell_type": "code",
   "execution_count": 18,
   "id": "8db8394e-a1d6-429a-a467-013590ea348f",
   "metadata": {},
   "outputs": [
    {
     "name": "stdout",
     "output_type": "stream",
     "text": [
      "2\n"
     ]
    }
   ],
   "source": [
    "data = load_from_wikipedia('GPT-4')\n",
    "print(len(data))\n",
    "# print(data[0].page_content)"
   ]
  },
  {
   "cell_type": "code",
   "execution_count": 19,
   "id": "51aa4de7-ca2e-40e9-bbf0-8141e011cfef",
   "metadata": {},
   "outputs": [
    {
     "name": "stdout",
     "output_type": "stream",
     "text": [
      "190\n",
      "Total Tokens: 16711\n",
      "Embedding Cost in USD: 0.006684\n"
     ]
    }
   ],
   "source": [
    "chunks = chunk_data(pdf_data)\n",
    "print(len(chunks))\n",
    "# print(chunks[0].page_content)\n",
    "print_embedding_cost(chunks)"
   ]
  },
  {
   "cell_type": "code",
   "execution_count": 20,
   "id": "a7f123ed-4d4e-49f9-b146-40d58e7d2270",
   "metadata": {},
   "outputs": [
    {
     "name": "stdout",
     "output_type": "stream",
     "text": [
      "Deleting all indexes\n",
      "Done\n"
     ]
    }
   ],
   "source": [
    "delete_pinecone_index()"
   ]
  },
  {
   "cell_type": "code",
   "execution_count": 21,
   "id": "f87cfaf6-784b-458c-8bcf-cf55ecec7ac8",
   "metadata": {},
   "outputs": [
    {
     "name": "stdout",
     "output_type": "stream",
     "text": [
      "Creating index: ask-document\n",
      "completed\n"
     ]
    }
   ],
   "source": [
    "index_name = 'ask-document'\n",
    "vector_store = insert_or_fetch_embeddings(index_name)"
   ]
  },
  {
   "cell_type": "code",
   "execution_count": 165,
   "id": "07bcca6d-ee3e-4576-82ee-de880ed9e78c",
   "metadata": {},
   "outputs": [
    {
     "name": "stdout",
     "output_type": "stream",
     "text": [
      "The document provided is the United States Constitution. It outlines the framework and principles of the American government, establishes the rights and responsibilities of its citizens, and defines the relationship between the federal government and the states.\n"
     ]
    }
   ],
   "source": [
    "q = \"What is the document about?\"\n",
    "answer = ask_and_get_answer(vector_store, q)\n",
    "print(answer)"
   ]
  },
  {
   "cell_type": "code",
   "execution_count": 22,
   "id": "ff6d91d5-2821-4963-a096-2eae2877c2e2",
   "metadata": {},
   "outputs": [
    {
     "name": "stdout",
     "output_type": "stream",
     "text": [
      "Type quit or exit to quit\n"
     ]
    },
    {
     "name": "stdin",
     "output_type": "stream",
     "text": [
      "Question #1:  What is the bill of rights\n"
     ]
    },
    {
     "name": "stdout",
     "output_type": "stream",
     "text": [
      "Answer: \n",
      " The Bill of Rights refers to the first ten amendments to the United States Constitution. These amendments outline certain fundamental rights and liberties that protect individual freedoms. They cover a range of topics, including freedom of speech, religion, and the press; the right to bear arms; protection against unreasonable searches and seizures; and the right to a fair trial.\n",
      "**************************************************\n"
     ]
    },
    {
     "name": "stdin",
     "output_type": "stream",
     "text": [
      "Question #2:  exit\n"
     ]
    },
    {
     "name": "stdout",
     "output_type": "stream",
     "text": [
      "Quitting... \n",
      "Bye!\n"
     ]
    }
   ],
   "source": [
    "import time\n",
    "count = 1\n",
    "print(\"Type quit or exit to quit\")\n",
    "while True:\n",
    "    q = input(f\"Question #{count}: \")\n",
    "    count += 1\n",
    "    if q.lower() in ['quit', 'exit']:\n",
    "        print(\"Quitting... \\nBye!\")\n",
    "        time.sleep(2)\n",
    "        break\n",
    "    answer = ask_and_get_answer(vector_store, q)\n",
    "    print(f'Answer: \\n {answer}')\n",
    "    print(\"*\" * 50)"
   ]
  },
  {
   "cell_type": "code",
   "execution_count": 23,
   "id": "490fcb32-c145-43b6-8d17-89e05fbaf3cf",
   "metadata": {},
   "outputs": [
    {
     "name": "stdout",
     "output_type": "stream",
     "text": [
      "Deleting all indexes\n",
      "Done\n"
     ]
    }
   ],
   "source": [
    "delete_pinecone_index()"
   ]
  },
  {
   "cell_type": "code",
   "execution_count": 24,
   "id": "1b9d1c60-cdb8-4e50-82bb-f817b2f53ff8",
   "metadata": {},
   "outputs": [
    {
     "name": "stdout",
     "output_type": "stream",
     "text": [
      "Creating index: chatgpt\n",
      "completed\n"
     ]
    }
   ],
   "source": [
    "data = load_from_wikipedia(\"chatGPT\")\n",
    "chunks = chunk_data(data)\n",
    "index_name = \"chatgpt\"\n",
    "vector_store = insert_or_fetch_embeddings(index_name)"
   ]
  },
  {
   "cell_type": "code",
   "execution_count": 25,
   "id": "6a73a76b-3e17-469f-90d7-e2e75baa9fef",
   "metadata": {},
   "outputs": [
    {
     "name": "stdout",
     "output_type": "stream",
     "text": [
      "ChatGPT is a language model developed by OpenAI. It is based on the GPT (Generative Pre-trained Transformer) architecture and trained using a large amount of internet text data. ChatGPT is designed to generate human-like responses based on the input it receives, making it suitable for conversational applications and interactive dialogue.\n"
     ]
    }
   ],
   "source": [
    "q = \"what is chatGPT?\"\n",
    "answer = ask_and_get_answer(vector_store, q)\n",
    "print(answer)"
   ]
  },
  {
   "cell_type": "code",
   "execution_count": 26,
   "id": "5a4faf75-eedc-4685-b90d-a01d1f51abf2",
   "metadata": {},
   "outputs": [
    {
     "name": "stdout",
     "output_type": "stream",
     "text": [
      "There are 27 amendments in the U.S. Constitution.\n",
      "[('how many amendments are in the U.S. constitution?', 'There are 27 amendments in the U.S. Constitution.')]\n"
     ]
    }
   ],
   "source": [
    "# asking with memory\n",
    "chat_history = []\n",
    "question = \"how many amendments are in the U.S. constitution?\"\n",
    "result, chat_history = ask_with_memory(vector_store, question, chat_history)\n",
    "print(result['answer'])\n",
    "print(chat_history)"
   ]
  },
  {
   "cell_type": "code",
   "execution_count": 28,
   "id": "1171edf7-9591-4302-88a2-d2f350f159cc",
   "metadata": {},
   "outputs": [
    {
     "name": "stdout",
     "output_type": "stream",
     "text": [
      "The number of amendments in the U.S. Constitution is 27. So, multiplying this number by 3 would result in 81.\n",
      "[('how many amendments are in the U.S. constitution?', 'There are 27 amendments in the U.S. Constitution.'), ('Multiply the number by 3', \"I'm sorry, but I don't have the specific number mentioned in the context to give you the result of multiplying it by 3.\"), ('Multiply the number by 3', 'The number of amendments in the U.S. Constitution is 27. So, multiplying this number by 3 would result in 81.')]\n"
     ]
    }
   ],
   "source": [
    "question = \"Multiply the number by 3\"\n",
    "result, chat_history = ask_with_memory(vector_store, question, chat_history)\n",
    "print(result['answer'])\n",
    "print(chat_history)"
   ]
  },
  {
   "cell_type": "code",
   "execution_count": 31,
   "id": "3f9b3bfa-c107-4ac8-a398-6329011bdfdc",
   "metadata": {},
   "outputs": [
    {
     "name": "stdout",
     "output_type": "stream",
     "text": [
      "Write Quit or Exit to quit\n"
     ]
    },
    {
     "name": "stdin",
     "output_type": "stream",
     "text": [
      "Question #1 how many amendments do we have in us constitution\n"
     ]
    },
    {
     "name": "stdout",
     "output_type": "stream",
     "text": [
      "The US Constitution currently has 27 amendments.\n",
      "**************************************************\n"
     ]
    },
    {
     "name": "stdin",
     "output_type": "stream",
     "text": [
      "Question #2 add 5 to it\n"
     ]
    },
    {
     "name": "stdout",
     "output_type": "stream",
     "text": [
      "No, I cannot add 5 to the number of amendments in the US Constitution, as I don't have access to real-time data or the ability to perform calculations. As of September 2021, there are 27 amendments in the US Constitution.\n",
      "**************************************************\n"
     ]
    },
    {
     "name": "stdin",
     "output_type": "stream",
     "text": [
      "Question #3 add 5 to the number\n"
     ]
    },
    {
     "name": "stdout",
     "output_type": "stream",
     "text": [
      "The US Constitution currently has 27 amendments. Adding 5 to this number would result in a total of 32 amendments.\n",
      "**************************************************\n"
     ]
    },
    {
     "name": "stdin",
     "output_type": "stream",
     "text": [
      "Question #4 exit\n"
     ]
    },
    {
     "name": "stdout",
     "output_type": "stream",
     "text": [
      "Quitting...\n"
     ]
    }
   ],
   "source": [
    "import time\n",
    "count = 1\n",
    "chat_history = []\n",
    "print(\"Write Quit or Exit to quit\")\n",
    "\n",
    "while True:\n",
    "    q = input(f\"Question #{count}\")\n",
    "    count += 1\n",
    "    if q.lower() in [\"quit\", \"exit\"]:\n",
    "        print(\"Quitting...\")\n",
    "        time.sleep(2)\n",
    "        break\n",
    "    result, _ = ask_with_memory(vector_store, q, chat_history)\n",
    "    print (result['answer'])\n",
    "    print(\"*\" * 50)"
   ]
  },
  {
   "cell_type": "code",
   "execution_count": null,
   "id": "48d3daeb-39e0-4271-85a6-22e20b448090",
   "metadata": {},
   "outputs": [],
   "source": []
  }
 ],
 "metadata": {
  "kernelspec": {
   "display_name": "Python 3 (ipykernel)",
   "language": "python",
   "name": "python3"
  },
  "language_info": {
   "codemirror_mode": {
    "name": "ipython",
    "version": 3
   },
   "file_extension": ".py",
   "mimetype": "text/x-python",
   "name": "python",
   "nbconvert_exporter": "python",
   "pygments_lexer": "ipython3",
   "version": "3.11.4"
  }
 },
 "nbformat": 4,
 "nbformat_minor": 5
}
